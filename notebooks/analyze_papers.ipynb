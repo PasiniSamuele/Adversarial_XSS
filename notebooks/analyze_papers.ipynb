{
 "cells": [
  {
   "cell_type": "code",
   "execution_count": 48,
   "metadata": {},
   "outputs": [],
   "source": [
    "import os\n",
    "import pandas as pd\n",
    "from datetime import datetime\n"
   ]
  },
  {
   "cell_type": "code",
   "execution_count": 34,
   "metadata": {},
   "outputs": [],
   "source": [
    "input_file = \"/Users/usi/Desktop/Adversarial_XSS/output/all.csv\"\n",
    "output_file = \"/Users/usi/Desktop/Adversarial_XSS/output/filtered.csv\""
   ]
  },
  {
   "cell_type": "code",
   "execution_count": 35,
   "metadata": {},
   "outputs": [
    {
     "data": {
      "text/html": [
       "<div>\n",
       "<style scoped>\n",
       "    .dataframe tbody tr th:only-of-type {\n",
       "        vertical-align: middle;\n",
       "    }\n",
       "\n",
       "    .dataframe tbody tr th {\n",
       "        vertical-align: top;\n",
       "    }\n",
       "\n",
       "    .dataframe thead th {\n",
       "        text-align: right;\n",
       "    }\n",
       "</style>\n",
       "<table border=\"1\" class=\"dataframe\">\n",
       "  <thead>\n",
       "    <tr style=\"text-align: right;\">\n",
       "      <th></th>\n",
       "      <th>Unnamed: 0</th>\n",
       "      <th>scopus_id</th>\n",
       "      <th>title</th>\n",
       "      <th>publication_name</th>\n",
       "      <th>issn</th>\n",
       "      <th>isbn</th>\n",
       "      <th>eissn</th>\n",
       "      <th>volume</th>\n",
       "      <th>page_range</th>\n",
       "      <th>cover_date</th>\n",
       "      <th>doi</th>\n",
       "      <th>citation_count</th>\n",
       "      <th>affiliation</th>\n",
       "      <th>aggregation_type</th>\n",
       "      <th>subtype_description</th>\n",
       "      <th>authors</th>\n",
       "      <th>full_text</th>\n",
       "    </tr>\n",
       "  </thead>\n",
       "  <tbody>\n",
       "    <tr>\n",
       "      <th>0</th>\n",
       "      <td>0</td>\n",
       "      <td>85167516396</td>\n",
       "      <td>An LSTM based cross-site scripting attack dete...</td>\n",
       "      <td>Journal of Cloud Computing</td>\n",
       "      <td>NaN</td>\n",
       "      <td>NaN</td>\n",
       "      <td>2192113X</td>\n",
       "      <td>12</td>\n",
       "      <td>NaN</td>\n",
       "      <td>2023-12-01</td>\n",
       "      <td>10.1186/s13677-023-00483-x</td>\n",
       "      <td>0</td>\n",
       "      <td>[{'name': 'Beijing University of Posts and Tel...</td>\n",
       "      <td>Journal</td>\n",
       "      <td>Article</td>\n",
       "      <td>['57222408825', '58529910200', '57222400611', ...</td>\n",
       "      <td>NaN</td>\n",
       "    </tr>\n",
       "    <tr>\n",
       "      <th>1</th>\n",
       "      <td>1</td>\n",
       "      <td>85168730096</td>\n",
       "      <td>ZTWeb: Cross site scripting detection based on...</td>\n",
       "      <td>Computers and Security</td>\n",
       "      <td>01674048</td>\n",
       "      <td>NaN</td>\n",
       "      <td>NaN</td>\n",
       "      <td>134</td>\n",
       "      <td>NaN</td>\n",
       "      <td>2023-11-01</td>\n",
       "      <td>10.1016/j.cose.2023.103434</td>\n",
       "      <td>0</td>\n",
       "      <td>[{'name': 'Tianjin University', 'city': 'Tianj...</td>\n",
       "      <td>Journal</td>\n",
       "      <td>Article</td>\n",
       "      <td>['58548008400', '56984876600', '57022407900', ...</td>\n",
       "      <td>https://api.elsevier.com/content/article/eid/1...</td>\n",
       "    </tr>\n",
       "    <tr>\n",
       "      <th>2</th>\n",
       "      <td>2</td>\n",
       "      <td>85150489378</td>\n",
       "      <td>Detection of cross-site scripting (XSS) attack...</td>\n",
       "      <td>Artificial Intelligence Review</td>\n",
       "      <td>02692821</td>\n",
       "      <td>NaN</td>\n",
       "      <td>15737462</td>\n",
       "      <td>56</td>\n",
       "      <td>12725-12769</td>\n",
       "      <td>2023-11-01</td>\n",
       "      <td>10.1007/s10462-023-10433-3</td>\n",
       "      <td>2</td>\n",
       "      <td>[{'name': 'Chandigarh University', 'city': 'Mo...</td>\n",
       "      <td>Journal</td>\n",
       "      <td>Article</td>\n",
       "      <td>['57212501970', '57210605091', '57197866300']</td>\n",
       "      <td>NaN</td>\n",
       "    </tr>\n",
       "    <tr>\n",
       "      <th>3</th>\n",
       "      <td>3</td>\n",
       "      <td>85163528486</td>\n",
       "      <td>Cost-effective detection system of cross-site ...</td>\n",
       "      <td>Results in Engineering</td>\n",
       "      <td>NaN</td>\n",
       "      <td>NaN</td>\n",
       "      <td>25901230</td>\n",
       "      <td>19</td>\n",
       "      <td>NaN</td>\n",
       "      <td>2023-09-01</td>\n",
       "      <td>10.1016/j.rineng.2023.101266</td>\n",
       "      <td>0</td>\n",
       "      <td>[{'name': 'Princess Sumaya University', 'city'...</td>\n",
       "      <td>Journal</td>\n",
       "      <td>Article</td>\n",
       "      <td>['57939384700']</td>\n",
       "      <td>https://api.elsevier.com/content/article/eid/1...</td>\n",
       "    </tr>\n",
       "    <tr>\n",
       "      <th>4</th>\n",
       "      <td>4</td>\n",
       "      <td>85169151006</td>\n",
       "      <td>State-Sensitive Black-Box Web Application Scan...</td>\n",
       "      <td>Applied Sciences (Switzerland)</td>\n",
       "      <td>NaN</td>\n",
       "      <td>NaN</td>\n",
       "      <td>20763417</td>\n",
       "      <td>13</td>\n",
       "      <td>NaN</td>\n",
       "      <td>2023-08-01</td>\n",
       "      <td>10.3390/app13169212</td>\n",
       "      <td>0</td>\n",
       "      <td>[{'name': 'National University of Defense Tech...</td>\n",
       "      <td>Journal</td>\n",
       "      <td>Article</td>\n",
       "      <td>['58555125300', '55738311000', '57190569944', ...</td>\n",
       "      <td>NaN</td>\n",
       "    </tr>\n",
       "  </tbody>\n",
       "</table>\n",
       "</div>"
      ],
      "text/plain": [
       "   Unnamed: 0    scopus_id                                              title  \\\n",
       "0           0  85167516396  An LSTM based cross-site scripting attack dete...   \n",
       "1           1  85168730096  ZTWeb: Cross site scripting detection based on...   \n",
       "2           2  85150489378  Detection of cross-site scripting (XSS) attack...   \n",
       "3           3  85163528486  Cost-effective detection system of cross-site ...   \n",
       "4           4  85169151006  State-Sensitive Black-Box Web Application Scan...   \n",
       "\n",
       "                 publication_name      issn isbn     eissn volume  \\\n",
       "0      Journal of Cloud Computing       NaN  NaN  2192113X     12   \n",
       "1          Computers and Security  01674048  NaN       NaN    134   \n",
       "2  Artificial Intelligence Review  02692821  NaN  15737462     56   \n",
       "3          Results in Engineering       NaN  NaN  25901230     19   \n",
       "4  Applied Sciences (Switzerland)       NaN  NaN  20763417     13   \n",
       "\n",
       "    page_range  cover_date                           doi  citation_count  \\\n",
       "0          NaN  2023-12-01    10.1186/s13677-023-00483-x               0   \n",
       "1          NaN  2023-11-01    10.1016/j.cose.2023.103434               0   \n",
       "2  12725-12769  2023-11-01    10.1007/s10462-023-10433-3               2   \n",
       "3          NaN  2023-09-01  10.1016/j.rineng.2023.101266               0   \n",
       "4          NaN  2023-08-01           10.3390/app13169212               0   \n",
       "\n",
       "                                         affiliation aggregation_type  \\\n",
       "0  [{'name': 'Beijing University of Posts and Tel...          Journal   \n",
       "1  [{'name': 'Tianjin University', 'city': 'Tianj...          Journal   \n",
       "2  [{'name': 'Chandigarh University', 'city': 'Mo...          Journal   \n",
       "3  [{'name': 'Princess Sumaya University', 'city'...          Journal   \n",
       "4  [{'name': 'National University of Defense Tech...          Journal   \n",
       "\n",
       "  subtype_description                                            authors  \\\n",
       "0             Article  ['57222408825', '58529910200', '57222400611', ...   \n",
       "1             Article  ['58548008400', '56984876600', '57022407900', ...   \n",
       "2             Article      ['57212501970', '57210605091', '57197866300']   \n",
       "3             Article                                    ['57939384700']   \n",
       "4             Article  ['58555125300', '55738311000', '57190569944', ...   \n",
       "\n",
       "                                           full_text  \n",
       "0                                                NaN  \n",
       "1  https://api.elsevier.com/content/article/eid/1...  \n",
       "2                                                NaN  \n",
       "3  https://api.elsevier.com/content/article/eid/1...  \n",
       "4                                                NaN  "
      ]
     },
     "execution_count": 35,
     "metadata": {},
     "output_type": "execute_result"
    }
   ],
   "source": [
    "df = pd.read_csv(input_file)\n",
    "df.head()"
   ]
  },
  {
   "cell_type": "code",
   "execution_count": 36,
   "metadata": {},
   "outputs": [
    {
     "data": {
      "text/plain": [
       "487"
      ]
     },
     "execution_count": 36,
     "metadata": {},
     "output_type": "execute_result"
    }
   ],
   "source": [
    "len(df)"
   ]
  },
  {
   "cell_type": "code",
   "execution_count": 37,
   "metadata": {},
   "outputs": [
    {
     "data": {
      "text/plain": [
       "482"
      ]
     },
     "execution_count": 37,
     "metadata": {},
     "output_type": "execute_result"
    }
   ],
   "source": [
    "df = df.drop_duplicates(subset=[\"title\"])\n",
    "len(df)"
   ]
  },
  {
   "cell_type": "code",
   "execution_count": 38,
   "metadata": {},
   "outputs": [
    {
     "data": {
      "text/plain": [
       "aggregation_type\n",
       "Conference Proceeding    238\n",
       "Journal                  159\n",
       "Book Series               79\n",
       "Book                       6\n",
       "Name: count, dtype: int64"
      ]
     },
     "execution_count": 38,
     "metadata": {},
     "output_type": "execute_result"
    }
   ],
   "source": [
    "df.aggregation_type.value_counts()"
   ]
  },
  {
   "cell_type": "code",
   "execution_count": 39,
   "metadata": {},
   "outputs": [
    {
     "data": {
      "text/plain": [
       "397"
      ]
     },
     "execution_count": 39,
     "metadata": {},
     "output_type": "execute_result"
    }
   ],
   "source": [
    "df = df.query(\"aggregation_type == 'Conference Proceeding' | aggregation_type == 'Journal'\")\n",
    "len(df)"
   ]
  },
  {
   "cell_type": "code",
   "execution_count": 40,
   "metadata": {},
   "outputs": [
    {
     "data": {
      "text/plain": [
       "subtype_description\n",
       "Conference Paper     231\n",
       "Article              147\n",
       "Conference Review     10\n",
       "Review                 8\n",
       "Retracted              1\n",
       "Name: count, dtype: int64"
      ]
     },
     "execution_count": 40,
     "metadata": {},
     "output_type": "execute_result"
    }
   ],
   "source": [
    "df.subtype_description.value_counts()"
   ]
  },
  {
   "cell_type": "code",
   "execution_count": 41,
   "metadata": {},
   "outputs": [
    {
     "data": {
      "text/plain": [
       "378"
      ]
     },
     "execution_count": 41,
     "metadata": {},
     "output_type": "execute_result"
    }
   ],
   "source": [
    "df = df.query(\"subtype_description == 'Conference Paper' | subtype_description == 'Article'\")\n",
    "len(df)"
   ]
  },
  {
   "cell_type": "code",
   "execution_count": 49,
   "metadata": {},
   "outputs": [],
   "source": [
    "date_format = '%Y-%m-%d'\n",
    "df['date'] = df.cover_date.map(lambda x: datetime.strptime(x,date_format))"
   ]
  },
  {
   "cell_type": "code",
   "execution_count": 50,
   "metadata": {},
   "outputs": [
    {
     "data": {
      "text/plain": [
       "year\n",
       "2022    46\n",
       "2023    41\n",
       "2021    41\n",
       "2019    38\n",
       "2020    33\n",
       "2016    26\n",
       "2017    24\n",
       "2018    22\n",
       "2013    17\n",
       "2015    16\n",
       "2012    16\n",
       "2014    14\n",
       "2011    10\n",
       "2010     8\n",
       "2009     7\n",
       "2008     7\n",
       "2007     5\n",
       "2006     4\n",
       "2004     2\n",
       "1970     1\n",
       "Name: count, dtype: int64"
      ]
     },
     "execution_count": 50,
     "metadata": {},
     "output_type": "execute_result"
    }
   ],
   "source": [
    "df['year'] = df.date.dt.year\n",
    "df['year'].value_counts()"
   ]
  },
  {
   "cell_type": "code",
   "execution_count": 51,
   "metadata": {},
   "outputs": [
    {
     "data": {
      "text/plain": [
       "161"
      ]
     },
     "execution_count": 51,
     "metadata": {},
     "output_type": "execute_result"
    }
   ],
   "source": [
    "df = df.query(\"year >= 2020\")\n",
    "len(df)"
   ]
  },
  {
   "cell_type": "code",
   "execution_count": 52,
   "metadata": {},
   "outputs": [],
   "source": [
    "df = df[[\"title\", \"year\", \"doi\", \"full_text\"]]\n",
    "df.to_csv(output_file, index=False)"
   ]
  },
  {
   "cell_type": "code",
   "execution_count": null,
   "metadata": {},
   "outputs": [],
   "source": []
  }
 ],
 "metadata": {
  "kernelspec": {
   "display_name": ".venv",
   "language": "python",
   "name": "python3"
  },
  "language_info": {
   "codemirror_mode": {
    "name": "ipython",
    "version": 3
   },
   "file_extension": ".py",
   "mimetype": "text/x-python",
   "name": "python",
   "nbconvert_exporter": "python",
   "pygments_lexer": "ipython3",
   "version": "3.9.6"
  },
  "orig_nbformat": 4
 },
 "nbformat": 4,
 "nbformat_minor": 2
}
